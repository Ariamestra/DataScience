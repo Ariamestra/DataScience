{
 "cells": [
  {
   "cell_type": "markdown",
   "metadata": {},
   "source": [
    "# Product Recommendation \n"
   ]
  },
  {
   "cell_type": "code",
   "execution_count": 1,
   "metadata": {},
   "outputs": [
    {
     "name": "stdout",
     "output_type": "stream",
     "text": [
      "Shape: (10667, 11)\n"
     ]
    },
    {
     "data": {
      "text/html": [
       "<div>\n",
       "<style scoped>\n",
       "    .dataframe tbody tr th:only-of-type {\n",
       "        vertical-align: middle;\n",
       "    }\n",
       "\n",
       "    .dataframe tbody tr th {\n",
       "        vertical-align: top;\n",
       "    }\n",
       "\n",
       "    .dataframe thead th {\n",
       "        text-align: right;\n",
       "    }\n",
       "</style>\n",
       "<table border=\"1\" class=\"dataframe\">\n",
       "  <thead>\n",
       "    <tr style=\"text-align: right;\">\n",
       "      <th></th>\n",
       "      <th>ID</th>\n",
       "      <th>brand</th>\n",
       "      <th>name</th>\n",
       "      <th>product_type</th>\n",
       "      <th>img</th>\n",
       "      <th>rating</th>\n",
       "      <th>dupes</th>\n",
       "      <th>description</th>\n",
       "      <th>shade_img</th>\n",
       "      <th>price_site</th>\n",
       "      <th>view_count</th>\n",
       "    </tr>\n",
       "  </thead>\n",
       "  <tbody>\n",
       "    <tr>\n",
       "      <th>0</th>\n",
       "      <td>1</td>\n",
       "      <td>Butter London</td>\n",
       "      <td>Handbag Holiday Cutile Oil</td>\n",
       "      <td>\\nTreatment\\n</td>\n",
       "      <td>NaN</td>\n",
       "      <td>NaN</td>\n",
       "      <td>NaN</td>\n",
       "      <td>With added vitamins A and E, this heavenly-sme...</td>\n",
       "      <td>NaN</td>\n",
       "      <td>NaN</td>\n",
       "      <td>0</td>\n",
       "    </tr>\n",
       "    <tr>\n",
       "      <th>1</th>\n",
       "      <td>2</td>\n",
       "      <td>Butter London</td>\n",
       "      <td>LIPPY</td>\n",
       "      <td>\\nLipgloss\\n</td>\n",
       "      <td>NaN</td>\n",
       "      <td>NaN</td>\n",
       "      <td>NaN</td>\n",
       "      <td>Lippy: British slang for someone who makes imp...</td>\n",
       "      <td>[{\"shade\":\"Come to Bed Red\",\"img\":\"https://www...</td>\n",
       "      <td>NaN</td>\n",
       "      <td>0</td>\n",
       "    </tr>\n",
       "    <tr>\n",
       "      <th>2</th>\n",
       "      <td>3</td>\n",
       "      <td>Butter London</td>\n",
       "      <td>Hardwear P.D. Quick Top Coat</td>\n",
       "      <td>\\nTop Coat\\n</td>\n",
       "      <td>NaN</td>\n",
       "      <td>NaN</td>\n",
       "      <td>NaN</td>\n",
       "      <td>Lock your lacquer. butter LONDON's quick-dry, ...</td>\n",
       "      <td>NaN</td>\n",
       "      <td>NaN</td>\n",
       "      <td>0</td>\n",
       "    </tr>\n",
       "    <tr>\n",
       "      <th>3</th>\n",
       "      <td>4</td>\n",
       "      <td>Butter London</td>\n",
       "      <td>Horse Power Nail Fertilizer</td>\n",
       "      <td>\\nTreatment\\n</td>\n",
       "      <td>NaN</td>\n",
       "      <td>NaN</td>\n",
       "      <td>NaN</td>\n",
       "      <td>Reap what you sow. butter LONDON's Nail Fertil...</td>\n",
       "      <td>NaN</td>\n",
       "      <td>NaN</td>\n",
       "      <td>0</td>\n",
       "    </tr>\n",
       "    <tr>\n",
       "      <th>4</th>\n",
       "      <td>5</td>\n",
       "      <td>Butter London</td>\n",
       "      <td>Kitten Heels Powder Finish Foot Creme</td>\n",
       "      <td>\\nCream\\n</td>\n",
       "      <td>NaN</td>\n",
       "      <td>NaN</td>\n",
       "      <td>NaN</td>\n",
       "      <td>Kitten Heels, our miraculous Powder Finish Foo...</td>\n",
       "      <td>NaN</td>\n",
       "      <td>NaN</td>\n",
       "      <td>0</td>\n",
       "    </tr>\n",
       "  </tbody>\n",
       "</table>\n",
       "</div>"
      ],
      "text/plain": [
       "   ID          brand                                   name   product_type  \\\n",
       "0   1  Butter London             Handbag Holiday Cutile Oil  \\nTreatment\\n   \n",
       "1   2  Butter London                                  LIPPY   \\nLipgloss\\n   \n",
       "2   3  Butter London           Hardwear P.D. Quick Top Coat   \\nTop Coat\\n   \n",
       "3   4  Butter London            Horse Power Nail Fertilizer  \\nTreatment\\n   \n",
       "4   5  Butter London  Kitten Heels Powder Finish Foot Creme      \\nCream\\n   \n",
       "\n",
       "   img  rating  dupes                                        description  \\\n",
       "0  NaN     NaN    NaN  With added vitamins A and E, this heavenly-sme...   \n",
       "1  NaN     NaN    NaN  Lippy: British slang for someone who makes imp...   \n",
       "2  NaN     NaN    NaN  Lock your lacquer. butter LONDON's quick-dry, ...   \n",
       "3  NaN     NaN    NaN  Reap what you sow. butter LONDON's Nail Fertil...   \n",
       "4  NaN     NaN    NaN  Kitten Heels, our miraculous Powder Finish Foo...   \n",
       "\n",
       "                                           shade_img price_site  view_count  \n",
       "0                                                NaN        NaN           0  \n",
       "1  [{\"shade\":\"Come to Bed Red\",\"img\":\"https://www...        NaN           0  \n",
       "2                                                NaN        NaN           0  \n",
       "3                                                NaN        NaN           0  \n",
       "4                                                NaN        NaN           0  "
      ]
     },
     "execution_count": 1,
     "metadata": {},
     "output_type": "execute_result"
    }
   ],
   "source": [
    "import pandas as pd\n",
    "from sklearn.feature_extraction.text import TfidfVectorizer\n",
    "from sklearn.metrics.pairwise import cosine_similarity\n",
    "\n",
    "\n",
    "data_URL = 'https://raw.githubusercontent.com/Ariamestra/DataScience/main/Products/products.csv'\n",
    "df = pd.read_csv(data_URL)\n",
    "print(f\"Shape: {df.shape}\")\n",
    "df.head()"
   ]
  },
  {
   "cell_type": "code",
   "execution_count": 2,
   "metadata": {},
   "outputs": [
    {
     "name": "stdout",
     "output_type": "stream",
     "text": [
      "Columns: Index(['ID', 'brand', 'name', 'product_type', 'img', 'rating', 'dupes',\n",
      "       'description', 'shade_img', 'price_site', 'view_count'],\n",
      "      dtype='object')\n",
      "----------------------------------------------------------------------------------------------------\n",
      "<class 'pandas.core.frame.DataFrame'>\n",
      "RangeIndex: 10667 entries, 0 to 10666\n",
      "Data columns (total 11 columns):\n",
      " #   Column        Non-Null Count  Dtype  \n",
      "---  ------        --------------  -----  \n",
      " 0   ID            10667 non-null  int64  \n",
      " 1   brand         10667 non-null  object \n",
      " 2   name          10667 non-null  object \n",
      " 3   product_type  10655 non-null  object \n",
      " 4   img           1194 non-null   object \n",
      " 5   rating        0 non-null      float64\n",
      " 6   dupes         0 non-null      float64\n",
      " 7   description   10667 non-null  object \n",
      " 8   shade_img     6547 non-null   object \n",
      " 9   price_site    1 non-null      object \n",
      " 10  view_count    10667 non-null  int64  \n",
      "dtypes: float64(2), int64(2), object(7)\n",
      "memory usage: 916.8+ KB\n",
      "Info: None\n",
      "----------------------------------------------------------------------------------------------------\n"
     ]
    }
   ],
   "source": [
    "print(f\"Columns: {df.columns}\")\n",
    "print ('-'*100)\n",
    "\n",
    "print(f\"Info: {df.info()}\")\n",
    "print ('-'*100)"
   ]
  },
  {
   "cell_type": "markdown",
   "metadata": {},
   "source": [
    "#### Preprocessing Description"
   ]
  },
  {
   "cell_type": "code",
   "execution_count": 3,
   "metadata": {},
   "outputs": [],
   "source": [
    "tfidf = TfidfVectorizer(stop_words='english') # Remove stop words \n",
    "tfidf_matrix = tfidf.fit_transform(df['description'].dropna()) # Remove missing values"
   ]
  },
  {
   "cell_type": "markdown",
   "metadata": {},
   "source": [
    "#### Calculate Cosine Similarity"
   ]
  },
  {
   "cell_type": "code",
   "execution_count": 4,
   "metadata": {},
   "outputs": [],
   "source": [
    "# Compute the cosine similarity matrix from TF-IDF vectors\n",
    "cosine_sim = cosine_similarity(tfidf_matrix, tfidf_matrix)"
   ]
  },
  {
   "cell_type": "markdown",
   "metadata": {},
   "source": [
    "#### Recommendation Function"
   ]
  },
  {
   "cell_type": "code",
   "execution_count": 5,
   "metadata": {},
   "outputs": [],
   "source": [
    "# Function to get the most similar products based on cosine similarity\n",
    "def get_recommendations(product_idx, cosine_sim=cosine_sim):\n",
    "    sim_scores = list(enumerate(cosine_sim[product_idx])) # Gets similarity score\n",
    "    sim_scores = sorted(sim_scores, key=lambda x: x[1], reverse=True) # Sorts through similar\n",
    "    sim_scores = sim_scores[1:11]  # Get top 10 \n",
    "    product_indices = [i[0] for i in sim_scores]  \n",
    "    return df.iloc[product_indices]  # Return rows "
   ]
  },
  {
   "cell_type": "markdown",
   "metadata": {},
   "source": [
    "#### Recommeendation"
   ]
  },
  {
   "cell_type": "code",
   "execution_count": 6,
   "metadata": {},
   "outputs": [
    {
     "name": "stdout",
     "output_type": "stream",
     "text": [
      "You entered product ID 501:\n",
      "ID                          503\n",
      "name            Aqua Smoky Lash\n",
      "product_type     \\nVolumizing\\n\n",
      "Name: 501, dtype: object\n",
      "\n",
      "Here are the recommendations for the product ID you entered:\n",
      "        ID                               name     product_type\n",
      "502    504                         Smoky Lash   \\nVolumizing\\n\n",
      "5550  5733        MegaPlum Waterproof Mascara   \\nVolumizing\\n\n",
      "5554  5737      MegaLength Waterproof Mascara  \\nLengthening\\n\n",
      "5495  5677     High Impact Waterproof Mascara     \\nDramatic\\n\n",
      "1165  1190      Inimitable Waterproof Mascara   \\nVolumizing\\n\n",
      "2524  2637    Full 'N Soft Waterproof Mascara   \\nVolumizing\\n\n",
      "2525  2638  Full â€˜N Soft Waterproof Mascara   \\nVolumizing\\n\n",
      "9728  9948                 Waterproof Mascara   \\nVolumizing\\n\n",
      "1502  1558       Sumptuous Extreme Waterproof   \\nVolumizing\\n\n",
      "403    405            Pro Waterproof Eyeliner       \\nLiquid\\n\n"
     ]
    }
   ],
   "source": [
    "# Prompt user \n",
    "user_product_id = int(input(\"Enter the product ID you are interested in: \"))\n",
    "\n",
    "if user_product_id in df.index:\n",
    "    # Retrieve and display users product\n",
    "    entered_product = df.loc[user_product_id]\n",
    "    print(f\"You entered product ID {user_product_id}:\")\n",
    "    print(entered_product[['ID', 'name', 'product_type']])\n",
    "        # Product recommendation\n",
    "    recommendations = get_recommendations(user_product_id)\n",
    "    print(\"\\nHere are the recommendations for the product ID you entered:\")\n",
    "    print(recommendations[['ID', 'name', 'product_type']])\n",
    "else:\n",
    "    # Error if ID is not found\n",
    "    print(\"The product ID you entered is not in the dataset.\")\n",
    "\n"
   ]
  }
 ],
 "metadata": {
  "kernelspec": {
   "display_name": "Python 3",
   "language": "python",
   "name": "python3"
  },
  "language_info": {
   "codemirror_mode": {
    "name": "ipython",
    "version": 3
   },
   "file_extension": ".py",
   "mimetype": "text/x-python",
   "name": "python",
   "nbconvert_exporter": "python",
   "pygments_lexer": "ipython3",
   "version": "3.10.13"
  }
 },
 "nbformat": 4,
 "nbformat_minor": 2
}
